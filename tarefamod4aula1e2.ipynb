{
  "cells": [
    {
      "cell_type": "markdown",
      "metadata": {
        "id": "ehy-84xGvKmo"
      },
      "source": [
        "# Tarefa 01\n",
        "\n",
        "- Leia os enunciados com atenção\n",
        "- Saiba que pode haver mais de uma resposta correta\n",
        "- Insira novas células de código sempre que achar necessário\n",
        "- Em caso de dúvidas, procure os tutores\n",
        "- Divirta-se :)\n",
        "\n",
        "#### 1)  crie uma série do pandas a partir de uma lista com os dados abaixo:\n",
        "\n",
        "Em um estudo sobre alteração na tempreatura global, A NASA disponibiliza dados de diferenças de de temperatura média da superfície terrestre relativos às médias de temperatura entre 1951 e 1980. Os dados originais podem ser vistos no site da NASA/GISS, e estão dispostos a cada década na tabela abaixo.\n",
        "\n",
        "|ano|anomalia termica|\n",
        "|:-:|:----:|\n",
        "| 1900 | -0.08 |\n",
        "| 1920 | -0.27 |\n",
        "| 1940 | 0.12 |\n",
        "| 1960 | -0.03 |\n",
        "| 1980 | 0.26 |\n",
        "| 2000 | 0.40 |\n",
        "| 2020 | 1.02 |\n",
        "\n",
        "Crie uma séries do Pandas a partir de uma lista com esses dados."
      ]
    },
    {
      "cell_type": "code",
      "execution_count": 10,
      "metadata": {
        "colab": {
          "base_uri": "https://localhost:8080/"
        },
        "id": "XNYwO1kOvKmq",
        "outputId": "6b2f2774-dafd-4f96-ec0f-df400ea76149"
      },
      "outputs": [
        {
          "output_type": "execute_result",
          "data": {
            "text/plain": [
              "0   -0.08\n",
              "1   -0.27\n",
              "2    0.12\n",
              "3   -0.03\n",
              "4    0.26\n",
              "5    0.40\n",
              "6    1.02\n",
              "dtype: float64"
            ]
          },
          "metadata": {},
          "execution_count": 10
        }
      ],
      "source": [
        "import pandas as pd\n",
        "import numpy as np\n",
        "\n",
        "# Seu código aqui\n",
        "ano = [1900,1920,1940,1960,1980,2000,2020]\n",
        "pd.Series(data=ano)\n",
        "\n",
        "anomalia = [-0.08, -0.27, 0.12, -0.03, 0.26,0.40,1.02]\n",
        "pd.Series(data=anomalia)"
      ]
    },
    {
      "cell_type": "markdown",
      "metadata": {
        "id": "QgJKDBHpvKmr"
      },
      "source": [
        "#### 2) Coloque os anos nos índices conforme a tabela."
      ]
    },
    {
      "cell_type": "code",
      "execution_count": 16,
      "metadata": {
        "colab": {
          "base_uri": "https://localhost:8080/"
        },
        "id": "RLlk_GFhvKmr",
        "outputId": "da8aab71-197f-4579-df8f-41e2b9a7f151"
      },
      "outputs": [
        {
          "output_type": "stream",
          "name": "stdout",
          "text": [
            "1900   -0.08\n",
            "1920   -0.27\n",
            "1940    0.12\n",
            "1960   -0.03\n",
            "1980    0.26\n",
            "2000    0.40\n",
            "2020    1.02\n",
            "dtype: float64\n"
          ]
        }
      ],
      "source": [
        "# seu código aqui\n",
        "ano = [1900,1920,1940,1960,1980,2000,2020]\n",
        "anomalia =[-0.08,-0.27,0.12,-0.03,0.26,0.40,1.02]\n",
        "anoscomindex = pd.Series(data= anomalia, index= ano)\n",
        "print(anoscomindex)"
      ]
    },
    {
      "cell_type": "markdown",
      "metadata": {
        "id": "Cj2ysTXlvKmr"
      },
      "source": [
        "#### 3) A partir do dicionário abaixo, crie uma séries do Pandas:"
      ]
    },
    {
      "cell_type": "code",
      "execution_count": 17,
      "metadata": {
        "colab": {
          "base_uri": "https://localhost:8080/"
        },
        "id": "CEiPvFg5vKmr",
        "outputId": "935ab51b-a192-4590-ec8b-156ff92477f5"
      },
      "outputs": [
        {
          "output_type": "execute_result",
          "data": {
            "text/plain": [
              "1900   -0.08\n",
              "1920   -0.27\n",
              "1940    0.12\n",
              "1960   -0.03\n",
              "1980    0.26\n",
              "2000    0.40\n",
              "2020    1.02\n",
              "dtype: float64"
            ]
          },
          "metadata": {},
          "execution_count": 17
        }
      ],
      "source": [
        "dic_temperaturas = {1900: -.08, 1920: -.27, 1940: .12, 1960: -.03, 1980: .26, 2000: .40, 2020: 1.02}\n",
        "\n",
        "# seu código aqui\n",
        "temperaturasseries = pd.Series(dic_temperaturas)\n",
        "temperaturasseries\n"
      ]
    },
    {
      "cell_type": "markdown",
      "metadata": {
        "id": "qBAGJuFDvKmr"
      },
      "source": [
        "#### 4) Transforme o ndarray abaixo em um dataframe.\n",
        "O numpy é capaz de gerar arrays n-dimensionais com números pseudo-aleatórios de acordo com uma variedade de distribuições, como no exemplo abaixo. Transforme esse nd-array em um DataFrame."
      ]
    },
    {
      "cell_type": "code",
      "execution_count": 26,
      "metadata": {
        "colab": {
          "base_uri": "https://localhost:8080/"
        },
        "id": "zcvw_9uJvKms",
        "outputId": "f2d9c408-82ce-44ec-ecab-d165ddb1fedf"
      },
      "outputs": [
        {
          "output_type": "stream",
          "name": "stdout",
          "text": [
            "             A           B           C\n",
            "0    87.196568   91.201774   91.870714\n",
            "1    91.182429   92.788309   94.973524\n",
            "2   104.038814   88.455202  102.122494\n",
            "3   100.813080   86.866266  115.144374\n",
            "4    95.830854   93.179070  101.543365\n",
            "5   107.137926   99.173802  110.031166\n",
            "6    88.568523   90.470809  102.666308\n",
            "7    96.040335  105.908742  107.101708\n",
            "8   101.558499  104.293494   93.628297\n",
            "9   109.552612  120.082818   79.628484\n",
            "10  102.994169   83.459978  108.360422\n",
            "11  117.305432  106.571357  102.303439\n",
            "12  104.822473  105.866781  101.795779\n",
            "13   99.396680  103.490864   88.770842\n",
            "14  112.111189  109.363744   87.578723\n",
            "15  102.256473  102.512048  107.556947\n",
            "16   85.660240   86.287802  110.812026\n",
            "17  111.802440  110.619346   99.058695\n",
            "18   98.653374   96.882564   95.272822\n",
            "19   92.955229  103.827444   94.842819\n"
          ]
        }
      ],
      "source": [
        "arr = np.random.normal(100, 10, (20,3))\n",
        "\n",
        "# seu código aqui\n",
        "df=pd.DataFrame(arr, columns=['A','B','C'])\n",
        "print(df)"
      ]
    },
    {
      "cell_type": "markdown",
      "metadata": {
        "id": "73_MJLjevKms"
      },
      "source": [
        "#### 5) Nomeie os índices das linhas com inteiros de 1 a 20, e as colunas com os nomes \"x1\", \"x2\", e \"x3\" respectivamente."
      ]
    },
    {
      "cell_type": "code",
      "execution_count": 35,
      "metadata": {
        "colab": {
          "base_uri": "https://localhost:8080/"
        },
        "id": "W6Cnd1qqvKms",
        "outputId": "c6ba8633-9beb-47d6-b6c3-f819f22426f0"
      },
      "outputs": [
        {
          "output_type": "stream",
          "name": "stdout",
          "text": [
            "            x1          x2          x3\n",
            "1    87.196568   91.201774   91.870714\n",
            "2    91.182429   92.788309   94.973524\n",
            "3   104.038814   88.455202  102.122494\n",
            "4   100.813080   86.866266  115.144374\n",
            "5    95.830854   93.179070  101.543365\n",
            "6   107.137926   99.173802  110.031166\n",
            "7    88.568523   90.470809  102.666308\n",
            "8    96.040335  105.908742  107.101708\n",
            "9   101.558499  104.293494   93.628297\n",
            "10  109.552612  120.082818   79.628484\n",
            "11  102.994169   83.459978  108.360422\n",
            "12  117.305432  106.571357  102.303439\n",
            "13  104.822473  105.866781  101.795779\n",
            "14   99.396680  103.490864   88.770842\n",
            "15  112.111189  109.363744   87.578723\n",
            "16  102.256473  102.512048  107.556947\n",
            "17   85.660240   86.287802  110.812026\n",
            "18  111.802440  110.619346   99.058695\n",
            "19   98.653374   96.882564   95.272822\n",
            "20   92.955229  103.827444   94.842819\n"
          ]
        }
      ],
      "source": [
        "#seu código aqui\n",
        "df = pd.DataFrame(arr, index=np.arange(1, 21), columns=['x1', 'x2', 'x3'])\n",
        "print(df)"
      ]
    },
    {
      "cell_type": "markdown",
      "metadata": {
        "id": "ww0MY4ebvKms"
      },
      "source": [
        "#### 6) No DataFrame do exercício 5, crie uma nova coluna como sendo a média das três colunas, e dê a ela o nome de \"media\" (não recomendo colocar acentos em nomes de variáveis)."
      ]
    },
    {
      "cell_type": "code",
      "execution_count": 38,
      "metadata": {
        "colab": {
          "base_uri": "https://localhost:8080/"
        },
        "id": "DG27SiihvKms",
        "outputId": "730da837-5491-46f3-9825-8d7050c0bc7a"
      },
      "outputs": [
        {
          "output_type": "stream",
          "name": "stdout",
          "text": [
            "            x1          x2          x3       media\n",
            "1    87.196568   91.201774   91.870714   90.089685\n",
            "2    91.182429   92.788309   94.973524   92.981421\n",
            "3   104.038814   88.455202  102.122494   98.205504\n",
            "4   100.813080   86.866266  115.144374  100.941240\n",
            "5    95.830854   93.179070  101.543365   96.851096\n",
            "6   107.137926   99.173802  110.031166  105.447631\n",
            "7    88.568523   90.470809  102.666308   93.901880\n",
            "8    96.040335  105.908742  107.101708  103.016928\n",
            "9   101.558499  104.293494   93.628297   99.826763\n",
            "10  109.552612  120.082818   79.628484  103.087971\n",
            "11  102.994169   83.459978  108.360422   98.271523\n",
            "12  117.305432  106.571357  102.303439  108.726743\n",
            "13  104.822473  105.866781  101.795779  104.161678\n",
            "14   99.396680  103.490864   88.770842   97.219462\n",
            "15  112.111189  109.363744   87.578723  103.017885\n",
            "16  102.256473  102.512048  107.556947  104.108489\n",
            "17   85.660240   86.287802  110.812026   94.253356\n",
            "18  111.802440  110.619346   99.058695  107.160160\n",
            "19   98.653374   96.882564   95.272822   96.936254\n",
            "20   92.955229  103.827444   94.842819   97.208497\n"
          ]
        }
      ],
      "source": [
        "# seu código aqui\n",
        "df['media'] = df[['x1','x2','x3']].mean(axis=1)\n",
        "print(df)"
      ]
    },
    {
      "cell_type": "markdown",
      "metadata": {
        "id": "AGHv6n1PvKms"
      },
      "source": [
        "#### 7) No DataFrame do exercício 6, crie uma nova coluna chamada \"log_med\", contendo o logaritmo natural da média calculada no exercício 6 <br>"
      ]
    },
    {
      "cell_type": "code",
      "execution_count": 39,
      "metadata": {
        "colab": {
          "base_uri": "https://localhost:8080/"
        },
        "id": "M4ctDlM4vKms",
        "outputId": "b0358048-3614-4450-8a80-a0074571a0c0"
      },
      "outputs": [
        {
          "output_type": "stream",
          "name": "stdout",
          "text": [
            "            x1          x2          x3       media   log_med\n",
            "1    87.196568   91.201774   91.870714   90.089685  4.500806\n",
            "2    91.182429   92.788309   94.973524   92.981421  4.532400\n",
            "3   104.038814   88.455202  102.122494   98.205504  4.587062\n",
            "4   100.813080   86.866266  115.144374  100.941240  4.614539\n",
            "5    95.830854   93.179070  101.543365   96.851096  4.573175\n",
            "6   107.137926   99.173802  110.031166  105.447631  4.658214\n",
            "7    88.568523   90.470809  102.666308   93.901880  4.542250\n",
            "8    96.040335  105.908742  107.101708  103.016928  4.634893\n",
            "9   101.558499  104.293494   93.628297   99.826763  4.603436\n",
            "10  109.552612  120.082818   79.628484  103.087971  4.635583\n",
            "11  102.994169   83.459978  108.360422   98.271523  4.587734\n",
            "12  117.305432  106.571357  102.303439  108.726743  4.688838\n",
            "13  104.822473  105.866781  101.795779  104.161678  4.645944\n",
            "14   99.396680  103.490864   88.770842   97.219462  4.576971\n",
            "15  112.111189  109.363744   87.578723  103.017885  4.634903\n",
            "16  102.256473  102.512048  107.556947  104.108489  4.645434\n",
            "17   85.660240   86.287802  110.812026   94.253356  4.545986\n",
            "18  111.802440  110.619346   99.058695  107.160160  4.674325\n",
            "19   98.653374   96.882564   95.272822   96.936254  4.574054\n",
            "20   92.955229  103.827444   94.842819   97.208497  4.576858\n"
          ]
        }
      ],
      "source": [
        "# seu código aqui\n",
        "df['log_med'] = np.log(df['media'])\n",
        "print (df)"
      ]
    }
  ],
  "metadata": {
    "kernelspec": {
      "display_name": "Python 3",
      "language": "python",
      "name": "python3"
    },
    "language_info": {
      "codemirror_mode": {
        "name": "ipython",
        "version": 3
      },
      "file_extension": ".py",
      "mimetype": "text/x-python",
      "name": "python",
      "nbconvert_exporter": "python",
      "pygments_lexer": "ipython3",
      "version": "3.8.5"
    },
    "colab": {
      "provenance": []
    }
  },
  "nbformat": 4,
  "nbformat_minor": 0
}