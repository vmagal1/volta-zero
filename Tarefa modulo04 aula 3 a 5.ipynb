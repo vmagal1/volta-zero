{
  "cells": [
    {
      "cell_type": "markdown",
      "metadata": {
        "id": "view-in-github",
        "colab_type": "text"
      },
      "source": [
        "<a href=\"https://colab.research.google.com/github/vmagal1/volta-zero/blob/main/Tarefa%20modulo04%20aula%203%20a%205.ipynb\" target=\"_parent\"><img src=\"https://colab.research.google.com/assets/colab-badge.svg\" alt=\"Open In Colab\"/></a>"
      ]
    },
    {
      "cell_type": "markdown",
      "metadata": {
        "id": "njUvbhQmC8-t"
      },
      "source": [
        "## Exercício 1: Vestibular\n",
        "\n",
        "Considere que a os dados gerados na célula abaixo contêm o número de acertos de 100 alunos em um vestibular para um curso de exatas, divididas pelos respectivos assuntos. Considere que cada assunto possui um número de questões conforme a tabela abaixo:\n",
        "\n",
        "| assunto | número de questões |\n",
        "|:---:|:---:|\n",
        "| Matemática | 24 |\n",
        "| Português | 18 |\n",
        "| Geografia | 8 |\n",
        "| Inglês | 8 |\n",
        "| História | 8 |\n",
        "| Física | 12 |\n",
        "| Química | 12 |\n",
        "\n",
        "Usando os comandos de operações com DataFrames que você aprendeu na Aula 03, calcule:\n",
        "\n",
        "1. (operações com escalar) Calcule o percentual de acerto dos alunos por assunto.  \n",
        "2. (operações entre *DataFrames) Calcule o total de acertos de cada aluno.  \n",
        "3. Calcule o porcentual geral de cada aluno.  \n",
        "4. Suponha que a nota de corte para a segunda fase seja 45. Quantos alunos tiveram nota maior que 45?  "
      ]
    },
    {
      "cell_type": "code",
      "execution_count": null,
      "metadata": {
        "id": "Ll6TadxCC8-y"
      },
      "outputs": [],
      "source": [
        "import pandas as pd\n",
        "import numpy as np\n",
        "\n",
        "np.random.seed(42)\n",
        "df_mat = pd.DataFrame(np.random.randint(24, size=(100, 1)), columns=['Qt_acertos'])\n",
        "\n",
        "df_por = pd.DataFrame(np.random.randint(18, size=(100, 1)), columns=['Qt_acertos'])\n",
        "\n",
        "df_geo = pd.DataFrame(np.random.randint(8, size=(100, 1)), columns=['Qt_acertos'])\n",
        "\n",
        "df_ing = pd.DataFrame(np.random.randint(8, size=(100, 1)), columns=['Qt_acertos'])\n",
        "\n",
        "df_his = pd.DataFrame(np.random.randint(8, size=(100, 1)), columns=['Qt_acertos'])\n",
        "\n",
        "df_fis = pd.DataFrame(np.random.randint(12, size=(100, 1)), columns=['Qt_acertos'])\n",
        "\n",
        "df_qui = pd.DataFrame(np.random.randint(12, size=(100, 1)), columns=['Qt_acertos'])"
      ]
    },
    {
      "cell_type": "code",
      "execution_count": null,
      "metadata": {
        "id": "JVmLXiC2C8-0",
        "colab": {
          "base_uri": "https://localhost:8080/"
        },
        "outputId": "413b2444-b785-481c-815d-a3c7612d66b5"
      },
      "outputs": [
        {
          "output_type": "stream",
          "name": "stdout",
          "text": [
            "[    Qt_acertos  Percentual_acertos\n",
            "0            6           25.000000\n",
            "1           19           79.166667\n",
            "2           14           58.333333\n",
            "3           10           41.666667\n",
            "4            7           29.166667\n",
            "..         ...                 ...\n",
            "95           6           25.000000\n",
            "96           8           33.333333\n",
            "97          23           95.833333\n",
            "98           0            0.000000\n",
            "99          11           45.833333\n",
            "\n",
            "[100 rows x 2 columns],     Qt_acertos  Percentual_acertos\n",
            "0            7           38.888889\n",
            "1           10           55.555556\n",
            "2           16           88.888889\n",
            "3            7           38.888889\n",
            "4            2           11.111111\n",
            "..         ...                 ...\n",
            "95           4           22.222222\n",
            "96           1            5.555556\n",
            "97           5           27.777778\n",
            "98          10           55.555556\n",
            "99          15           83.333333\n",
            "\n",
            "[100 rows x 2 columns],     Qt_acertos  Percentual_acertos\n",
            "0            7                87.5\n",
            "1            0                 0.0\n",
            "2            0                 0.0\n",
            "3            3                37.5\n",
            "4            2                25.0\n",
            "..         ...                 ...\n",
            "95           7                87.5\n",
            "96           4                50.0\n",
            "97           0                 0.0\n",
            "98           3                37.5\n",
            "99           0                 0.0\n",
            "\n",
            "[100 rows x 2 columns],     Qt_acertos  Percentual_acertos\n",
            "0            3                37.5\n",
            "1            0                 0.0\n",
            "2            5                62.5\n",
            "3            4                50.0\n",
            "4            7                87.5\n",
            "..         ...                 ...\n",
            "95           1                12.5\n",
            "96           6                75.0\n",
            "97           2                25.0\n",
            "98           1                12.5\n",
            "99           1                12.5\n",
            "\n",
            "[100 rows x 2 columns],     Qt_acertos  Percentual_acertos\n",
            "0            1                12.5\n",
            "1            0                 0.0\n",
            "2            7                87.5\n",
            "3            0                 0.0\n",
            "4            0                 0.0\n",
            "..         ...                 ...\n",
            "95           4                50.0\n",
            "96           1                12.5\n",
            "97           4                50.0\n",
            "98           5                62.5\n",
            "99           6                75.0\n",
            "\n",
            "[100 rows x 2 columns],     Qt_acertos  Percentual_acertos\n",
            "0            8           66.666667\n",
            "1           11           91.666667\n",
            "2            4           33.333333\n",
            "3            0            0.000000\n",
            "4            9           75.000000\n",
            "..         ...                 ...\n",
            "95           9           75.000000\n",
            "96           4           33.333333\n",
            "97           1            8.333333\n",
            "98          10           83.333333\n",
            "99           7           58.333333\n",
            "\n",
            "[100 rows x 2 columns],     Qt_acertos  Percentual_acertos\n",
            "0            3           25.000000\n",
            "1            8           66.666667\n",
            "2            4           33.333333\n",
            "3            8           66.666667\n",
            "4            3           25.000000\n",
            "..         ...                 ...\n",
            "95           3           25.000000\n",
            "96           3           25.000000\n",
            "97           5           41.666667\n",
            "98          11           91.666667\n",
            "99           2           16.666667\n",
            "\n",
            "[100 rows x 2 columns]]\n"
          ]
        }
      ],
      "source": [
        "# 1) Seu código aqui\n",
        "dfs = [df_mat, df_por, df_geo, df_ing, df_his, df_fis, df_qui]\n",
        "num_questoes = [24, 18, 8, 8, 8, 12, 12]\n",
        "assuntos = ['Matemática', 'Português', 'Geografia', 'Inglês', 'História', 'Física', 'Química']\n",
        "\n",
        "def calcular_percentual_acertos(df, max_acertos):\n",
        "    df['Percentual_acertos'] = (df['Qt_acertos'] / max_acertos) * 100\n",
        "    return df\n",
        "dfs_percentual = [calcular_percentual_acertos(df, max_acertos) for df, max_acertos in zip(dfs, num_questoes)]\n",
        "print(dfs_percentual)"
      ]
    },
    {
      "cell_type": "code",
      "execution_count": null,
      "metadata": {
        "id": "JbTwCyNHC8-1",
        "colab": {
          "base_uri": "https://localhost:8080/"
        },
        "outputId": "acb2a599-fb59-48c9-a337-e2bcc8feaf43"
      },
      "outputs": [
        {
          "output_type": "stream",
          "name": "stdout",
          "text": [
            "0     35\n",
            "1     48\n",
            "2     50\n",
            "3     32\n",
            "4     30\n",
            "      ..\n",
            "95    34\n",
            "96    27\n",
            "97    40\n",
            "98    40\n",
            "99    42\n",
            "Name: Qt_acertos, Length: 100, dtype: int64\n"
          ]
        }
      ],
      "source": [
        "# 2) Seu código aqui\n",
        "\n",
        "total_acertos = sum(df['Qt_acertos'] for df in dfs_percentual)\n",
        "print(total_acertos)"
      ]
    },
    {
      "cell_type": "code",
      "execution_count": null,
      "metadata": {
        "id": "c2L8dJkVC8-3",
        "colab": {
          "base_uri": "https://localhost:8080/"
        },
        "outputId": "86a4755b-7456-4e5b-8de3-b8806e19c877"
      },
      "outputs": [
        {
          "output_type": "stream",
          "name": "stdout",
          "text": [
            "    Total_acertos  Percentual_geral\n",
            "0              35         38.888889\n",
            "1              48         53.333333\n",
            "2              50         55.555556\n",
            "3              32         35.555556\n",
            "4              30         33.333333\n",
            "..            ...               ...\n",
            "95             34         37.777778\n",
            "96             27         30.000000\n",
            "97             40         44.444444\n",
            "98             40         44.444444\n",
            "99             42         46.666667\n",
            "\n",
            "[100 rows x 2 columns]\n"
          ]
        }
      ],
      "source": [
        "# 3) Seu código aqui\n",
        "df_total_acertos = pd.DataFrame({'Total_acertos': total_acertos})\n",
        "total_questoes = sum(num_questoes)\n",
        "df_total_acertos['Percentual_geral'] = (df_total_acertos['Total_acertos'] / total_questoes) * 100\n",
        "print(df_total_acertos)"
      ]
    },
    {
      "cell_type": "code",
      "execution_count": null,
      "metadata": {
        "id": "PZTZ7DFzC8-3",
        "colab": {
          "base_uri": "https://localhost:8080/"
        },
        "outputId": "d8c0146d-a35c-41b3-b808-f679c51b9ba8"
      },
      "outputs": [
        {
          "output_type": "stream",
          "name": "stdout",
          "text": [
            "    Total_acertos  Percentual_geral\n",
            "1              48         53.333333\n",
            "2              50         55.555556\n",
            "5              50         55.555556\n",
            "7              49         54.444444\n",
            "8              58         64.444444\n",
            "17             52         57.777778\n",
            "18             50         55.555556\n",
            "20             53         58.888889\n",
            "24             50         55.555556\n",
            "27             50         55.555556\n",
            "31             54         60.000000\n",
            "35             48         53.333333\n",
            "36             56         62.222222\n",
            "37             52         57.777778\n",
            "39             49         54.444444\n",
            "40             47         52.222222\n",
            "42             48         53.333333\n",
            "45             48         53.333333\n",
            "48             55         61.111111\n",
            "60             48         53.333333\n",
            "62             46         51.111111\n",
            "67             46         51.111111\n",
            "70             62         68.888889\n",
            "71             53         58.888889\n",
            "72             50         55.555556\n",
            "77             53         58.888889\n",
            "78             66         73.333333\n",
            "81             55         61.111111\n",
            "88             50         55.555556\n",
            "89             63         70.000000\n",
            "93             56         62.222222\n"
          ]
        }
      ],
      "source": [
        "# 4) Seu código aqui\n",
        "nota_de_corte = 45\n",
        "alunos_acima_corte = df_total_acertos[df_total_acertos['Total_acertos'] > nota_de_corte]\n",
        "print(alunos_acima_corte)"
      ]
    },
    {
      "cell_type": "markdown",
      "metadata": {
        "id": "Hlfl75XXC8-4"
      },
      "source": [
        "## 2) Vestibular II\n",
        "\n",
        "Ainda sobre o mesmo banco de dados:\n",
        "\n",
        "1. Neste vestibular, quem 'zera' em matemática, física ou química está desqualificado. Monte um novo *DataFrame* com os alunos desqualificados por este critério.\n",
        "2. Quantos são esses alunos?\n",
        "3. Qual a média desses alunos em história e geografia?\n",
        "4. Monte um *DataFrame* com os alunos que passaram para a segunda fase. Repare que estes alunos não podem ter sido desqualificados."
      ]
    },
    {
      "cell_type": "code",
      "execution_count": null,
      "metadata": {
        "id": "hPaMGXvJC8-4",
        "colab": {
          "base_uri": "https://localhost:8080/"
        },
        "outputId": "8fc41334-1467-463b-879b-1da8545801e6"
      },
      "outputs": [
        {
          "output_type": "stream",
          "name": "stdout",
          "text": [
            "Alunos desqualificados (zeraram em Matemática, Física ou Química):\n",
            "    Aluno\n",
            "3       4\n",
            "6       7\n",
            "10     11\n",
            "12     13\n",
            "14     15\n",
            "20     21\n",
            "25     26\n",
            "26     27\n",
            "27     28\n",
            "33     34\n",
            "35     36\n",
            "49     50\n",
            "56     57\n",
            "65     66\n",
            "66     67\n",
            "72     73\n",
            "73     74\n",
            "74     75\n",
            "84     85\n",
            "89     90\n",
            "92     93\n",
            "94     95\n",
            "98     99\n"
          ]
        }
      ],
      "source": [
        "# seu código aqui\n",
        "for i, df in enumerate([df_mat, df_por, df_geo, df_ing, df_his, df_fis, df_qui]):\n",
        "  df['Aluno'] = np.arange(1,101)\n",
        "  alunos_desqualificados = df_mat[(df_mat['Qt_acertos'] == 0) | (df_fis['Qt_acertos'] == 0) | (df_qui['Qt_acertos'] == 0)]\n",
        "  df_desqualificados = alunos_desqualificados[['Aluno']]\n",
        "print(\"Alunos desqualificados (zeraram em Matemática, Física ou Química):\")\n",
        "print(df_desqualificados)"
      ]
    },
    {
      "cell_type": "code",
      "source": [],
      "metadata": {
        "id": "uPYk40HJy60O"
      },
      "execution_count": null,
      "outputs": []
    },
    {
      "cell_type": "markdown",
      "metadata": {
        "id": "EGBUWpAHC8-5"
      },
      "source": [
        "## 3) Vacinações no Acre\n",
        "Vamos trabalhar agora com a base de vacinações no Acre. Para facilitar a sua vida, copiamos o link do arquivo na célula abaixo.\n",
        "\n",
        "1. Quantas vacinas estão registradas nessa base?  \n",
        "2. Quantos pacientes foram vacinados? (considere um paciente para cada valor único de ```paciente_id```)  \n",
        "3. Quantos pacientes únicos tomaram a primeira dose? OBS: Há um caractere especial neste campo. Receba os valores do campo com o método ```.unique()```.   \n",
        "4. Quantos pacientes com menos de 18 anos foram vacinados?  \n",
        "5. Quantos estabelecimentos aplicaram vacina no Acre?\n",
        "\n",
        "\n",
        "**OBS:** O portal do DATASUS pode apresentar instabilidades, retornando um erro na segunda célula abaixo. Por este motivo está disponível uma base estática, que se for baixada para o seu *working directory* pode ser lida com este comando: ```df = pd.read_csv('registros de vacinacao covid ACRE.csv', sep=';')```.\n",
        "\n",
        "**OBS2:** Para saber qual é o seu working directory, rode no jupyter: ```!pwd```."
      ]
    },
    {
      "cell_type": "code",
      "execution_count": 5,
      "metadata": {
        "id": "ET4r139hC8-5"
      },
      "outputs": [],
      "source": [
        "arquivo = '/content/reg_vac_ACRE.csv'"
      ]
    },
    {
      "cell_type": "code",
      "execution_count": 4,
      "metadata": {
        "id": "SC9YMWLSC8-6",
        "collapsed": true
      },
      "outputs": [],
      "source": [
        "# 1) Sua solução aqui\n",
        "import pandas as pd\n",
        "df = pd.read_csv(arquivo,sep = ';', decimal = ',')"
      ]
    },
    {
      "cell_type": "code",
      "source": [
        "df.vacina_nome.unique()\n",
        "\n",
        "# E possivel contar 5 Vacinas diferentes no banco de dados"
      ],
      "metadata": {
        "colab": {
          "base_uri": "https://localhost:8080/"
        },
        "id": "hv1EXTsz091l",
        "outputId": "9f383466-3b60-4d14-8dc0-973656ae3c89"
      },
      "execution_count": 6,
      "outputs": [
        {
          "output_type": "execute_result",
          "data": {
            "text/plain": [
              "array(['Covid-19-Coronavac-Sinovac/Butantan',\n",
              "       'Vacina Covid-19 - Covishield', 'Covid-19-AstraZeneca',\n",
              "       'Vacina covid-19 - BNT162b2 - BioNTech/Fosun Pharma/Pfizer',\n",
              "       'Vacina covid-19 - Ad26.COV2.S - Janssen-Cilag'], dtype=object)"
            ]
          },
          "metadata": {},
          "execution_count": 6
        }
      ]
    },
    {
      "cell_type": "code",
      "execution_count": 7,
      "metadata": {
        "id": "PMztY1RlC8-7",
        "colab": {
          "base_uri": "https://localhost:8080/"
        },
        "outputId": "1dcd4f9c-2090-4df0-c5ce-3b99336a2365"
      },
      "outputs": [
        {
          "output_type": "stream",
          "name": "stdout",
          "text": [
            "120517\n"
          ]
        }
      ],
      "source": [
        "# 2)\n",
        "numero_de_pacientes = df['paciente_id'].nunique()\n",
        "\n",
        "print(numero_de_pacientes)"
      ]
    },
    {
      "cell_type": "code",
      "execution_count": 77,
      "metadata": {
        "id": "V_wr--3JC8-7",
        "colab": {
          "base_uri": "https://localhost:8080/"
        },
        "outputId": "a4488ddd-9303-424b-99ed-e78980d3e878"
      },
      "outputs": [
        {
          "output_type": "stream",
          "name": "stdout",
          "text": [
            "0\n"
          ]
        }
      ],
      "source": [
        "# 3)\n",
        "df_copy = df\n",
        "df_copy ['doseordem'] = 0\n"
      ]
    },
    {
      "cell_type": "code",
      "source": [
        "df_copy.loc[df_copy['vacina_descricao_dose'] <= '1ª Dose','doseordem'] = 1\n",
        "\n",
        "df_copy[['vacina_descricao_dose', 'doseordem']]"
      ],
      "metadata": {
        "colab": {
          "base_uri": "https://localhost:8080/",
          "height": 423
        },
        "id": "mA4-xkbHFP0_",
        "outputId": "e776c658-f996-447d-e679-fd22ad21a830"
      },
      "execution_count": 78,
      "outputs": [
        {
          "output_type": "execute_result",
          "data": {
            "text/plain": [
              "       vacina_descricao_dose  doseordem\n",
              "0                    1ª Dose          0\n",
              "1                    2ª Dose          0\n",
              "2                    1ª Dose          0\n",
              "3                    2ª Dose          0\n",
              "4                    1ª Dose          0\n",
              "...                      ...        ...\n",
              "169066               1ª Dose          0\n",
              "169067               1ª Dose          0\n",
              "169068               1ª Dose          0\n",
              "169069               1ª Dose          0\n",
              "169070               1ª Dose          0\n",
              "\n",
              "[169071 rows x 2 columns]"
            ],
            "text/html": [
              "\n",
              "  <div id=\"df-d61404d7-7004-43d9-87c3-a243e81d162c\" class=\"colab-df-container\">\n",
              "    <div>\n",
              "<style scoped>\n",
              "    .dataframe tbody tr th:only-of-type {\n",
              "        vertical-align: middle;\n",
              "    }\n",
              "\n",
              "    .dataframe tbody tr th {\n",
              "        vertical-align: top;\n",
              "    }\n",
              "\n",
              "    .dataframe thead th {\n",
              "        text-align: right;\n",
              "    }\n",
              "</style>\n",
              "<table border=\"1\" class=\"dataframe\">\n",
              "  <thead>\n",
              "    <tr style=\"text-align: right;\">\n",
              "      <th></th>\n",
              "      <th>vacina_descricao_dose</th>\n",
              "      <th>doseordem</th>\n",
              "    </tr>\n",
              "  </thead>\n",
              "  <tbody>\n",
              "    <tr>\n",
              "      <th>0</th>\n",
              "      <td>1ª Dose</td>\n",
              "      <td>0</td>\n",
              "    </tr>\n",
              "    <tr>\n",
              "      <th>1</th>\n",
              "      <td>2ª Dose</td>\n",
              "      <td>0</td>\n",
              "    </tr>\n",
              "    <tr>\n",
              "      <th>2</th>\n",
              "      <td>1ª Dose</td>\n",
              "      <td>0</td>\n",
              "    </tr>\n",
              "    <tr>\n",
              "      <th>3</th>\n",
              "      <td>2ª Dose</td>\n",
              "      <td>0</td>\n",
              "    </tr>\n",
              "    <tr>\n",
              "      <th>4</th>\n",
              "      <td>1ª Dose</td>\n",
              "      <td>0</td>\n",
              "    </tr>\n",
              "    <tr>\n",
              "      <th>...</th>\n",
              "      <td>...</td>\n",
              "      <td>...</td>\n",
              "    </tr>\n",
              "    <tr>\n",
              "      <th>169066</th>\n",
              "      <td>1ª Dose</td>\n",
              "      <td>0</td>\n",
              "    </tr>\n",
              "    <tr>\n",
              "      <th>169067</th>\n",
              "      <td>1ª Dose</td>\n",
              "      <td>0</td>\n",
              "    </tr>\n",
              "    <tr>\n",
              "      <th>169068</th>\n",
              "      <td>1ª Dose</td>\n",
              "      <td>0</td>\n",
              "    </tr>\n",
              "    <tr>\n",
              "      <th>169069</th>\n",
              "      <td>1ª Dose</td>\n",
              "      <td>0</td>\n",
              "    </tr>\n",
              "    <tr>\n",
              "      <th>169070</th>\n",
              "      <td>1ª Dose</td>\n",
              "      <td>0</td>\n",
              "    </tr>\n",
              "  </tbody>\n",
              "</table>\n",
              "<p>169071 rows × 2 columns</p>\n",
              "</div>\n",
              "    <div class=\"colab-df-buttons\">\n",
              "\n",
              "  <div class=\"colab-df-container\">\n",
              "    <button class=\"colab-df-convert\" onclick=\"convertToInteractive('df-d61404d7-7004-43d9-87c3-a243e81d162c')\"\n",
              "            title=\"Convert this dataframe to an interactive table.\"\n",
              "            style=\"display:none;\">\n",
              "\n",
              "  <svg xmlns=\"http://www.w3.org/2000/svg\" height=\"24px\" viewBox=\"0 -960 960 960\">\n",
              "    <path d=\"M120-120v-720h720v720H120Zm60-500h600v-160H180v160Zm220 220h160v-160H400v160Zm0 220h160v-160H400v160ZM180-400h160v-160H180v160Zm440 0h160v-160H620v160ZM180-180h160v-160H180v160Zm440 0h160v-160H620v160Z\"/>\n",
              "  </svg>\n",
              "    </button>\n",
              "\n",
              "  <style>\n",
              "    .colab-df-container {\n",
              "      display:flex;\n",
              "      gap: 12px;\n",
              "    }\n",
              "\n",
              "    .colab-df-convert {\n",
              "      background-color: #E8F0FE;\n",
              "      border: none;\n",
              "      border-radius: 50%;\n",
              "      cursor: pointer;\n",
              "      display: none;\n",
              "      fill: #1967D2;\n",
              "      height: 32px;\n",
              "      padding: 0 0 0 0;\n",
              "      width: 32px;\n",
              "    }\n",
              "\n",
              "    .colab-df-convert:hover {\n",
              "      background-color: #E2EBFA;\n",
              "      box-shadow: 0px 1px 2px rgba(60, 64, 67, 0.3), 0px 1px 3px 1px rgba(60, 64, 67, 0.15);\n",
              "      fill: #174EA6;\n",
              "    }\n",
              "\n",
              "    .colab-df-buttons div {\n",
              "      margin-bottom: 4px;\n",
              "    }\n",
              "\n",
              "    [theme=dark] .colab-df-convert {\n",
              "      background-color: #3B4455;\n",
              "      fill: #D2E3FC;\n",
              "    }\n",
              "\n",
              "    [theme=dark] .colab-df-convert:hover {\n",
              "      background-color: #434B5C;\n",
              "      box-shadow: 0px 1px 3px 1px rgba(0, 0, 0, 0.15);\n",
              "      filter: drop-shadow(0px 1px 2px rgba(0, 0, 0, 0.3));\n",
              "      fill: #FFFFFF;\n",
              "    }\n",
              "  </style>\n",
              "\n",
              "    <script>\n",
              "      const buttonEl =\n",
              "        document.querySelector('#df-d61404d7-7004-43d9-87c3-a243e81d162c button.colab-df-convert');\n",
              "      buttonEl.style.display =\n",
              "        google.colab.kernel.accessAllowed ? 'block' : 'none';\n",
              "\n",
              "      async function convertToInteractive(key) {\n",
              "        const element = document.querySelector('#df-d61404d7-7004-43d9-87c3-a243e81d162c');\n",
              "        const dataTable =\n",
              "          await google.colab.kernel.invokeFunction('convertToInteractive',\n",
              "                                                    [key], {});\n",
              "        if (!dataTable) return;\n",
              "\n",
              "        const docLinkHtml = 'Like what you see? Visit the ' +\n",
              "          '<a target=\"_blank\" href=https://colab.research.google.com/notebooks/data_table.ipynb>data table notebook</a>'\n",
              "          + ' to learn more about interactive tables.';\n",
              "        element.innerHTML = '';\n",
              "        dataTable['output_type'] = 'display_data';\n",
              "        await google.colab.output.renderOutput(dataTable, element);\n",
              "        const docLink = document.createElement('div');\n",
              "        docLink.innerHTML = docLinkHtml;\n",
              "        element.appendChild(docLink);\n",
              "      }\n",
              "    </script>\n",
              "  </div>\n",
              "\n",
              "\n",
              "<div id=\"df-2dae2442-78c6-40b3-8206-f7255edd9632\">\n",
              "  <button class=\"colab-df-quickchart\" onclick=\"quickchart('df-2dae2442-78c6-40b3-8206-f7255edd9632')\"\n",
              "            title=\"Suggest charts\"\n",
              "            style=\"display:none;\">\n",
              "\n",
              "<svg xmlns=\"http://www.w3.org/2000/svg\" height=\"24px\"viewBox=\"0 0 24 24\"\n",
              "     width=\"24px\">\n",
              "    <g>\n",
              "        <path d=\"M19 3H5c-1.1 0-2 .9-2 2v14c0 1.1.9 2 2 2h14c1.1 0 2-.9 2-2V5c0-1.1-.9-2-2-2zM9 17H7v-7h2v7zm4 0h-2V7h2v10zm4 0h-2v-4h2v4z\"/>\n",
              "    </g>\n",
              "</svg>\n",
              "  </button>\n",
              "\n",
              "<style>\n",
              "  .colab-df-quickchart {\n",
              "      --bg-color: #E8F0FE;\n",
              "      --fill-color: #1967D2;\n",
              "      --hover-bg-color: #E2EBFA;\n",
              "      --hover-fill-color: #174EA6;\n",
              "      --disabled-fill-color: #AAA;\n",
              "      --disabled-bg-color: #DDD;\n",
              "  }\n",
              "\n",
              "  [theme=dark] .colab-df-quickchart {\n",
              "      --bg-color: #3B4455;\n",
              "      --fill-color: #D2E3FC;\n",
              "      --hover-bg-color: #434B5C;\n",
              "      --hover-fill-color: #FFFFFF;\n",
              "      --disabled-bg-color: #3B4455;\n",
              "      --disabled-fill-color: #666;\n",
              "  }\n",
              "\n",
              "  .colab-df-quickchart {\n",
              "    background-color: var(--bg-color);\n",
              "    border: none;\n",
              "    border-radius: 50%;\n",
              "    cursor: pointer;\n",
              "    display: none;\n",
              "    fill: var(--fill-color);\n",
              "    height: 32px;\n",
              "    padding: 0;\n",
              "    width: 32px;\n",
              "  }\n",
              "\n",
              "  .colab-df-quickchart:hover {\n",
              "    background-color: var(--hover-bg-color);\n",
              "    box-shadow: 0 1px 2px rgba(60, 64, 67, 0.3), 0 1px 3px 1px rgba(60, 64, 67, 0.15);\n",
              "    fill: var(--button-hover-fill-color);\n",
              "  }\n",
              "\n",
              "  .colab-df-quickchart-complete:disabled,\n",
              "  .colab-df-quickchart-complete:disabled:hover {\n",
              "    background-color: var(--disabled-bg-color);\n",
              "    fill: var(--disabled-fill-color);\n",
              "    box-shadow: none;\n",
              "  }\n",
              "\n",
              "  .colab-df-spinner {\n",
              "    border: 2px solid var(--fill-color);\n",
              "    border-color: transparent;\n",
              "    border-bottom-color: var(--fill-color);\n",
              "    animation:\n",
              "      spin 1s steps(1) infinite;\n",
              "  }\n",
              "\n",
              "  @keyframes spin {\n",
              "    0% {\n",
              "      border-color: transparent;\n",
              "      border-bottom-color: var(--fill-color);\n",
              "      border-left-color: var(--fill-color);\n",
              "    }\n",
              "    20% {\n",
              "      border-color: transparent;\n",
              "      border-left-color: var(--fill-color);\n",
              "      border-top-color: var(--fill-color);\n",
              "    }\n",
              "    30% {\n",
              "      border-color: transparent;\n",
              "      border-left-color: var(--fill-color);\n",
              "      border-top-color: var(--fill-color);\n",
              "      border-right-color: var(--fill-color);\n",
              "    }\n",
              "    40% {\n",
              "      border-color: transparent;\n",
              "      border-right-color: var(--fill-color);\n",
              "      border-top-color: var(--fill-color);\n",
              "    }\n",
              "    60% {\n",
              "      border-color: transparent;\n",
              "      border-right-color: var(--fill-color);\n",
              "    }\n",
              "    80% {\n",
              "      border-color: transparent;\n",
              "      border-right-color: var(--fill-color);\n",
              "      border-bottom-color: var(--fill-color);\n",
              "    }\n",
              "    90% {\n",
              "      border-color: transparent;\n",
              "      border-bottom-color: var(--fill-color);\n",
              "    }\n",
              "  }\n",
              "</style>\n",
              "\n",
              "  <script>\n",
              "    async function quickchart(key) {\n",
              "      const quickchartButtonEl =\n",
              "        document.querySelector('#' + key + ' button');\n",
              "      quickchartButtonEl.disabled = true;  // To prevent multiple clicks.\n",
              "      quickchartButtonEl.classList.add('colab-df-spinner');\n",
              "      try {\n",
              "        const charts = await google.colab.kernel.invokeFunction(\n",
              "            'suggestCharts', [key], {});\n",
              "      } catch (error) {\n",
              "        console.error('Error during call to suggestCharts:', error);\n",
              "      }\n",
              "      quickchartButtonEl.classList.remove('colab-df-spinner');\n",
              "      quickchartButtonEl.classList.add('colab-df-quickchart-complete');\n",
              "    }\n",
              "    (() => {\n",
              "      let quickchartButtonEl =\n",
              "        document.querySelector('#df-2dae2442-78c6-40b3-8206-f7255edd9632 button');\n",
              "      quickchartButtonEl.style.display =\n",
              "        google.colab.kernel.accessAllowed ? 'block' : 'none';\n",
              "    })();\n",
              "  </script>\n",
              "</div>\n",
              "\n",
              "    </div>\n",
              "  </div>\n"
            ],
            "application/vnd.google.colaboratory.intrinsic+json": {
              "type": "dataframe"
            }
          },
          "metadata": {},
          "execution_count": 78
        }
      ]
    },
    {
      "cell_type": "code",
      "execution_count": 72,
      "metadata": {
        "id": "S6ab9ExEC8-7",
        "colab": {
          "base_uri": "https://localhost:8080/"
        },
        "outputId": "58363d4c-af1f-472e-87b9-274408baaba9"
      },
      "outputs": [
        {
          "output_type": "stream",
          "name": "stdout",
          "text": [
            "998\n"
          ]
        }
      ],
      "source": [
        "# 4)Quantos pacientes com menos de 18 anos foram vacinados?\n",
        "\n",
        "totalmenor = (df_copy['paciente_idade'] <= 18).sum()\n",
        "print(totalmenor)\n"
      ]
    },
    {
      "cell_type": "code",
      "execution_count": 70,
      "metadata": {
        "id": "PVrY_-qlC8-8",
        "colab": {
          "base_uri": "https://localhost:8080/"
        },
        "outputId": "8357148a-d506-4598-d597-67b9ed207d34"
      },
      "outputs": [
        {
          "output_type": "stream",
          "name": "stdout",
          "text": [
            "141426\n"
          ]
        }
      ],
      "source": [
        "# 5)Quantos estabelecimentos aplicaram vacina no Acre?\n",
        "acrevac = (df_copy['paciente_endereco_nmmunicipio'] <= 'RIO BRANCO').sum()\n",
        "print(acrevac)\n"
      ]
    },
    {
      "cell_type": "markdown",
      "metadata": {
        "id": "LH1LSYvGC8-8"
      },
      "source": [
        "## 4) Vacinação II\n",
        "Gere um *DataFrame* que contenha somente os estabelecimentos que aplicaram vcinas a menores de 18 anos. Nesse *DataFrame* devem conter somente os dados dos estabelecimentos, mais uma coluna sendo a quantidade de vacinas que o estabelecimento aplicou a menores de 18 anos.  \n",
        "  \n",
        "1. crie uma cópia do *DataFrame* original, contendo somente os registros de vacinas realizadas a menores de 18 anos.  \n",
        "2. crie uma lista das colunas desse *DataFrame* com o atributo de *DataFrame* **.columns()**  \n",
        "3. Nesse *DataFrame* faça uma contagem do campo ```vacina_categoria_nome```.\n",
        "3. a partir da lista de colunas, escolha somente aquelas que são referentes ao estabelecimento, faça uma lista com esses valores.  \n",
        "4. usando o método *.loc*, selecione somente essas variáveis  \n",
        "5. Aplique o método **.drop_duplicates** e crie uma lista com uma linha para cada estabelecimento, com os dados do estabelecimento  "
      ]
    },
    {
      "cell_type": "code",
      "execution_count": 81,
      "metadata": {
        "id": "3ojs12vUC8-8",
        "colab": {
          "base_uri": "https://localhost:8080/"
        },
        "outputId": "9b5a31fb-ad12-49d3-ef53-29b46e66d08d"
      },
      "outputs": [
        {
          "output_type": "stream",
          "name": "stdout",
          "text": [
            "  estabelecimento  quantidade_vacinas\n",
            "0            Est1                   3\n",
            "1            Est2                   1\n",
            "2            Est3                   1\n"
          ]
        }
      ],
      "source": []
    },
    {
      "cell_type": "code",
      "execution_count": null,
      "metadata": {
        "id": "sLyevPRBC8-8"
      },
      "outputs": [],
      "source": [
        "# 2)\n"
      ]
    },
    {
      "cell_type": "code",
      "execution_count": null,
      "metadata": {
        "id": "lZAW-Dp8C8-8"
      },
      "outputs": [],
      "source": [
        "# 3)\n"
      ]
    },
    {
      "cell_type": "code",
      "execution_count": null,
      "metadata": {
        "id": "xxYsxrxAC8-8"
      },
      "outputs": [],
      "source": [
        "# 4)\n"
      ]
    },
    {
      "cell_type": "code",
      "execution_count": null,
      "metadata": {
        "id": "vaX2x_0rC8-8"
      },
      "outputs": [],
      "source": [
        "# 5)\n"
      ]
    }
  ],
  "metadata": {
    "kernelspec": {
      "display_name": "Python 3",
      "language": "python",
      "name": "python3"
    },
    "language_info": {
      "codemirror_mode": {
        "name": "ipython",
        "version": 3
      },
      "file_extension": ".py",
      "mimetype": "text/x-python",
      "name": "python",
      "nbconvert_exporter": "python",
      "pygments_lexer": "ipython3",
      "version": "3.8.5"
    },
    "toc": {
      "base_numbering": 1,
      "nav_menu": {},
      "number_sections": false,
      "sideBar": true,
      "skip_h1_title": true,
      "title_cell": "Índice",
      "title_sidebar": "Conteúdo",
      "toc_cell": false,
      "toc_position": {},
      "toc_section_display": true,
      "toc_window_display": false
    },
    "varInspector": {
      "cols": {
        "lenName": 16,
        "lenType": 16,
        "lenVar": 40
      },
      "kernels_config": {
        "python": {
          "delete_cmd_postfix": "",
          "delete_cmd_prefix": "del ",
          "library": "var_list.py",
          "varRefreshCmd": "print(var_dic_list())"
        },
        "r": {
          "delete_cmd_postfix": ") ",
          "delete_cmd_prefix": "rm(",
          "library": "var_list.r",
          "varRefreshCmd": "cat(var_dic_list()) "
        }
      },
      "types_to_exclude": [
        "module",
        "function",
        "builtin_function_or_method",
        "instance",
        "_Feature"
      ],
      "window_display": false
    },
    "colab": {
      "provenance": [],
      "include_colab_link": true
    }
  },
  "nbformat": 4,
  "nbformat_minor": 0
}